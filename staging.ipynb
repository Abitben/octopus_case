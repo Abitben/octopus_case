{
 "cells": [
  {
   "cell_type": "markdown",
   "metadata": {},
   "source": [
    "# Staging and prepare data"
   ]
  },
  {
   "cell_type": "markdown",
   "metadata": {},
   "source": [
    "![Diagramme](ERD_staged_database.png)"
   ]
  },
  {
   "cell_type": "code",
   "execution_count": 5,
   "metadata": {},
   "outputs": [],
   "source": [
    "import psycopg2\n",
    "from dotenv import load_dotenv\n",
    "import os\n",
    "import pandas as pd\n",
    "\n",
    "# Retrieve the Redshift credentials from the .env file\n",
    "load_dotenv()\n",
    "redshift_user = os.getenv(\"redshift_user\")\n",
    "redshift_password = os.getenv(\"redshift_password\")\n",
    "iam_role = os.getenv(\"iam_role\")\n",
    "\n",
    "# Connect to Redshift\n",
    "\n",
    "def execute_redshift(query):\n",
    "  with psycopg2.connect(\n",
    "    host='octopus-energy-ops.202533530775.eu-west-3.redshift-serverless.amazonaws.com',\n",
    "    port=5439,\n",
    "    database='dev',\n",
    "    user=redshift_user,\n",
    "    password=redshift_password\n",
    "  ) as conn:\n",
    "     with conn.cursor() as cursor:\n",
    "      cursor.execute(query)\n",
    "      conn.commit()\n",
    "      print('commit to Redshift')\n",
    "  conn.close()"
   ]
  },
  {
   "cell_type": "markdown",
   "metadata": {},
   "source": [
    "# Create a schema"
   ]
  },
  {
   "cell_type": "code",
   "execution_count": 6,
   "metadata": {},
   "outputs": [
    {
     "name": "stdout",
     "output_type": "stream",
     "text": [
      "commit to Redshift\n"
     ]
    }
   ],
   "source": [
    "query = \"\"\"\n",
    "CREATE SCHEMA IF NOT EXISTS staging;\n",
    "\"\"\"\n",
    "\n",
    "execute_redshift(query)"
   ]
  },
  {
   "cell_type": "markdown",
   "metadata": {},
   "source": [
    "# Staging for Call table"
   ]
  },
  {
   "cell_type": "code",
   "execution_count": 10,
   "metadata": {},
   "outputs": [
    {
     "name": "stdout",
     "output_type": "stream",
     "text": [
      "commit to Redshift\n"
     ]
    }
   ],
   "source": [
    "query = \"\"\"\n",
    "CREATE TABLE IF NOT EXISTS staging.stg_call (\n",
    "  call_id BIGINT,\n",
    "  called_at TIMESTAMP,\n",
    "  agent_id BIGINT,\n",
    "  reason_id BIGINT,\n",
    "  talk_time DOUBLE PRECISION,\n",
    "  direction VARCHAR,\n",
    "  account_id BIGINT)\n",
    "\"\"\"\n",
    "\n",
    "execute_redshift(query)"
   ]
  },
  {
   "cell_type": "code",
   "execution_count": 11,
   "metadata": {},
   "outputs": [
    {
     "name": "stdout",
     "output_type": "stream",
     "text": [
      "commit to Redshift\n"
     ]
    }
   ],
   "source": [
    "query = \"\"\"\n",
    "INSERT INTO\n",
    "  staging.stg_call\n",
    "SELECT\n",
    "  CAST(id as BIGINT) as call_id,\n",
    "  CAST(called_at as TIMESTAMP) as called_at,\n",
    "  CAST(agent_id AS BIGINT) as agent_id,\n",
    "  CAST(CASE \n",
    "        WHEN reason_id = 'nan' THEN NULL\n",
    "        ELSE split_part(reason_id,'.',1)\n",
    "        END \n",
    "  AS BIGINT) as reason_id,\n",
    "  CAST(talk_time AS DOUBLE PRECISION) as talk_time,\n",
    "  direction,\n",
    "  CAST(account_id AS BIGINT) as account_id\n",
    "FROM\n",
    "  raw_data.call\n",
    "\"\"\"\n",
    "\n",
    "execute_redshift(query)"
   ]
  },
  {
   "cell_type": "markdown",
   "metadata": {},
   "source": [
    "# Staging for Reason table"
   ]
  },
  {
   "cell_type": "code",
   "execution_count": 13,
   "metadata": {},
   "outputs": [
    {
     "name": "stdout",
     "output_type": "stream",
     "text": [
      "commit to Redshift\n"
     ]
    }
   ],
   "source": [
    "query = \"\"\"\n",
    "CREATE TABLE IF NOT EXISTS staging.stg_call_reason (\n",
    "  call_reason_id BIGINT,\n",
    "  reason TEXT,\n",
    "  category TEXT)\n",
    "\"\"\"\n",
    "\n",
    "execute_redshift(query)"
   ]
  },
  {
   "cell_type": "code",
   "execution_count": 14,
   "metadata": {},
   "outputs": [
    {
     "name": "stdout",
     "output_type": "stream",
     "text": [
      "commit to Redshift\n"
     ]
    }
   ],
   "source": [
    "query = \"\"\"\n",
    "INSERT INTO\n",
    "  staging.stg_call_reason\n",
    "SELECT\n",
    "  id as call_reason_id,\n",
    "  reason,\n",
    "  category\n",
    "FROM\n",
    "  raw_data.call_reason\n",
    "\"\"\"\n",
    "\n",
    "execute_redshift(query)"
   ]
  },
  {
   "cell_type": "markdown",
   "metadata": {},
   "source": [
    "# Staging for Account table"
   ]
  },
  {
   "cell_type": "code",
   "execution_count": 15,
   "metadata": {},
   "outputs": [
    {
     "name": "stdout",
     "output_type": "stream",
     "text": [
      "commit to Redshift\n"
     ]
    }
   ],
   "source": [
    "query = \"\"\"\n",
    "CREATE TABLE IF NOT EXISTS staging.stg_account (\n",
    "  account_id BIGINT,\n",
    "  sales_channel TEXT,\n",
    "  sign_up_date DATE)\n",
    "\"\"\"\n",
    "\n",
    "execute_redshift(query)"
   ]
  },
  {
   "cell_type": "code",
   "execution_count": 16,
   "metadata": {},
   "outputs": [
    {
     "name": "stdout",
     "output_type": "stream",
     "text": [
      "commit to Redshift\n"
     ]
    }
   ],
   "source": [
    "query = \"\"\"\n",
    "INSERT INTO\n",
    "  staging.stg_account\n",
    "SELECT\n",
    "  id as account_id,\n",
    "  CASE\n",
    "    WHEN sales_channel = '' THEN 'No Sales Channel'\n",
    "    ELSE sales_channel\n",
    "  END as sales_channel,\n",
    "  CAST(sign_up_date AS DATE)\n",
    "FROM\n",
    "  raw_data.account\n",
    "\"\"\"\n",
    "\n",
    "execute_redshift(query)"
   ]
  }
 ],
 "metadata": {
  "kernelspec": {
   "display_name": "base",
   "language": "python",
   "name": "python3"
  },
  "language_info": {
   "codemirror_mode": {
    "name": "ipython",
    "version": 3
   },
   "file_extension": ".py",
   "mimetype": "text/x-python",
   "name": "python",
   "nbconvert_exporter": "python",
   "pygments_lexer": "ipython3",
   "version": "3.10.9"
  }
 },
 "nbformat": 4,
 "nbformat_minor": 2
}
